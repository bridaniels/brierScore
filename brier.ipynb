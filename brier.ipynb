{
 "cells": [
  {
   "attachments": {},
   "cell_type": "markdown",
   "metadata": {},
   "source": [
    "# Brier Score \n",
    "---"
   ]
  },
  {
   "attachments": {},
   "cell_type": "markdown",
   "metadata": {},
   "source": [
    "### Import Libraries "
   ]
  },
  {
   "cell_type": "code",
   "execution_count": 1,
   "metadata": {},
   "outputs": [],
   "source": [
    "import numpy as np "
   ]
  },
  {
   "attachments": {},
   "cell_type": "markdown",
   "metadata": {},
   "source": [
    "# Calculate Brier Score \n",
    "---"
   ]
  },
  {
   "attachments": {},
   "cell_type": "markdown",
   "metadata": {},
   "source": [
    "> ### `BrierScore = 1/N * SUM(predicted - observed)²`\n",
    "> -  N = Number of Observations\n",
    "> \n",
    "> Value of **Brier Score** Always Between `0.0 and 1.0`\n",
    ">  - `0` = perfect \n",
    ">  - `1` = worst\n",
    ">\n",
    "> Lower the Brier Score = Better"
   ]
  },
  {
   "attachments": {},
   "cell_type": "markdown",
   "metadata": {},
   "source": [
    "### Generate Random Arrays: \n",
    "- 1 binary, 1 predictions"
   ]
  },
  {
   "cell_type": "code",
   "execution_count": 2,
   "metadata": {},
   "outputs": [
    {
     "name": "stdout",
     "output_type": "stream",
     "text": [
      "Binary Array: [0 1 0 0 0 0 0 1 0 1] \n",
      "Prediction Array: [[0.61612786 0.00234133 0.50031398 0.04890813 0.34880641 0.18529963\n",
      "  0.63597477 0.08505006 0.96671728 0.03728153]]\n"
     ]
    }
   ],
   "source": [
    "n = 10\n",
    "\n",
    "random_bin = np.random.choice([0,1], size=n)\n",
    "random_pred = np.random.rand(1,n)\n",
    "\n",
    "print(\"Binary Array: {} \\nPrediction Array: {}\".format(random_bin, random_pred))"
   ]
  },
  {
   "cell_type": "code",
   "execution_count": 3,
   "metadata": {},
   "outputs": [
    {
     "name": "stdout",
     "output_type": "stream",
     "text": [
      "Losses: [[0.37961354 0.99532281 0.25031407 0.00239201 0.12166591 0.03433595\n",
      "  0.40446391 0.83713339 0.9345423  0.92682684]] \n",
      "Brier Score: 0.48866107402131886\n"
     ]
    }
   ],
   "source": [
    "losses = np.subtract(random_bin, random_pred)**2\n",
    "brier_score = losses.sum()/n\n",
    "\n",
    "print(\"Losses: {} \\nBrier Score: {}\".format(losses,brier_score))"
   ]
  },
  {
   "cell_type": "code",
   "execution_count": null,
   "metadata": {},
   "outputs": [],
   "source": []
  }
 ],
 "metadata": {
  "kernelspec": {
   "display_name": "base",
   "language": "python",
   "name": "python3"
  },
  "language_info": {
   "codemirror_mode": {
    "name": "ipython",
    "version": 3
   },
   "file_extension": ".py",
   "mimetype": "text/x-python",
   "name": "python",
   "nbconvert_exporter": "python",
   "pygments_lexer": "ipython3",
   "version": "3.8.8"
  },
  "orig_nbformat": 4,
  "vscode": {
   "interpreter": {
    "hash": "08a0dfaf3fa74e1b9a1bb705dbe1b2708914f992320bdd77350db063c3b717dd"
   }
  }
 },
 "nbformat": 4,
 "nbformat_minor": 2
}
